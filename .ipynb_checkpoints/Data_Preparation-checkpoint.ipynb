{
 "cells": [
  {
   "cell_type": "markdown",
   "metadata": {
    "id": "thgwx3NISixo"
   },
   "source": [
    "### LOAD DEPENDENCIES"
   ]
  },
  {
   "cell_type": "code",
   "execution_count": null,
   "metadata": {
    "id": "1ZlOlFIWSixr"
   },
   "outputs": [],
   "source": [
    "import pandas as pd\n",
    "import numpy as np\n",
    "from os import listdir\n",
    "from os.path import isfile, join\n",
    "import pandas as pd\n",
    "import numpy as np\n",
    "import re\n",
    "import time\n",
    "import random\n",
    "from datetime import datetime\n",
    "import glob\n",
    "import string\n",
    "from string import printable\n",
    "import nltk\n",
    "from nltk.tokenize import word_tokenize\n",
    "nltk.download('punkt')\n",
    "from sklearn.feature_extraction.text import ENGLISH_STOP_WORDS\n",
    "from nltk.corpus import stopwords\n",
    "import spacy\n",
    "import en_core_web_sm\n",
    "from rake_nltk import Rake\n",
    "import spacy\n",
    "nlp = spacy.blank('en')\n",
    "nlp.add_pipe('dbpedia_spotlight')\n",
    "\n",
    "from nltk import tokenize\n",
    "from vaderSentiment.vaderSentiment import SentimentIntensityAnalyzer\n",
    "from nrclex import NRCLex"
   ]
  },
  {
   "cell_type": "markdown",
   "metadata": {
    "id": "f9x-rND4Sixu"
   },
   "source": [
    "### IMPORT TRACER SURVEY DATASET"
   ]
  },
  {
   "cell_type": "code",
   "execution_count": null,
   "metadata": {
    "id": "59uhsMLZSixu"
   },
   "outputs": [],
   "source": [
    "tracer_df = pd.read_excel(r\"C:\\...01_Data\\Survey.xlsx\")\n",
    "tracer_df = tracer_df[tracer_df[\"I was invited to participate in this survey.  I have read and understood fully the informed consent.  I am consenting voluntarily to participate in this study.\"] == \"Yes\"]\n",
    "tracer_df = tracer_df.drop_duplicates(subset=\"2. E-mail address\",keep=\"first\")"
   ]
  },
  {
   "cell_type": "markdown",
   "metadata": {
    "id": "O_QgyJmzSixu"
   },
   "source": [
    "### IMPORT GRADUATES LIST"
   ]
  },
  {
   "cell_type": "code",
   "execution_count": null,
   "metadata": {
    "id": "7j3_wIIVSixu"
   },
   "outputs": [],
   "source": [
    "cb_df = pd.read_excel(r\"C:\\...01_Data\\Graduates_List_20221021.xlsx\")\n",
    "cb_df = cb_df.drop_duplicates(subset=\"E-mail\",keep=\"first\")\n",
    "cb_df = cb_df.rename(columns={\"Microspecializations\":\"Microspecializations_Completed\"})"
   ]
  },
  {
   "cell_type": "markdown",
   "metadata": {
    "id": "YEYX4Lf3Sixv"
   },
   "source": [
    "### CLEAN UP SOME FIELDS"
   ]
  },
  {
   "cell_type": "code",
   "execution_count": null,
   "metadata": {
    "id": "NZpTZr20Sixv"
   },
   "outputs": [],
   "source": [
    "# REGION AND ISLAND GROUP\n",
    "region_df = pd.read_excel(r\"C:...01_Data\\Regional_Mapping.xlsx\")\n",
    "tracer_df = tracer_df.merge(region_df, left_on = \"7. Area of residence (upon scholarship application)\", right_on = \"Province\", how = \"left\")\n",
    "tracer_df = tracer_df.drop(columns=[\"Province\"])\n",
    "\n",
    "cb_df[\"email\"] = cb_df[\"E-mail\"].apply(lambda e: str(e).lower().strip())\n",
    "tracer_df[\"4. USERNAME in Coursebank account\"] = tracer_df[\"4. USERNAME in Coursebank account\"].apply(lambda u: str(u).lower().strip())\n",
    "tracer_df[\"2. E-mail address\"] = tracer_df[\"2. E-mail address\"].apply(lambda e: str(e).lower().strip())\n",
    "\n",
    "cb_df = cb_df.drop(columns=[\"Name\"])\n",
    "tracer_df = tracer_df.rename(columns={\"4. USERNAME in Coursebank account\":\"username\"})\n",
    "tracer_df = tracer_df.rename(columns={\"2. E-mail address\":\"email\"})\n",
    "tracer_df = tracer_df.merge(cb_df, on = \"email\", how = \"left\")\n",
    "\n",
    "# AGE\n",
    "tracer_df[\"6.  Age\"] = tracer_df[\"6.  Age\"].apply(lambda a: str(a).replace(\"years old\",\"\"))\n",
    "tracer_df[\"6.  Age\"] = tracer_df[\"6.  Age\"].astype(float).astype(int)\n",
    "\n",
    "conditions1 = [\n",
    "    (tracer_df['6.  Age'] <18),\n",
    "    (tracer_df['6.  Age'] >=18) & (tracer_df['6.  Age'] <25),\n",
    "    (tracer_df['6.  Age'] >=25) & (tracer_df['6.  Age'] <35),\n",
    "    (tracer_df['6.  Age'] >=35) & (tracer_df['6.  Age'] <45),\n",
    "    (tracer_df['6.  Age'] >=45) & (tracer_df['6.  Age'] <55),\n",
    "    (tracer_df['6.  Age'] >=55) & (tracer_df['6.  Age'] <65),\n",
    "    (tracer_df['6.  Age'] >=65)\n",
    "]\n",
    "\n",
    "values1 = [\"Below 18\",\"18-24\",\"25-34\",\"35-44\",\"45-54\",\"55-64\",\"65+\"]\n",
    "\n",
    "tracer_df[\"Age_Range\"] = np.select(conditions1, values1)\n",
    "\n",
    "# INDUSTRY\n",
    "oth = [\"Other personal services activities\", \"Mining and quarrying\", \"Transportation and storage\", \"Activities of extra-territorial organizations and bodies\", \"Activities of membership organization\", \"Real estate activities\", \"Repair of computers and personal and household goods\"]\n",
    "tracer_df[\"Industry\"] = tracer_df[\"11. Industry (Nature of Own or Employer\\'s Business)\"].apply(lambda r: \"Others\" if any(i in str(r).lower() for i in oth) else r)\n",
    "\n",
    "# INFORMATION SOURCE\n",
    "tracer_df[\"InfoChannel\"] = pd.np.where(tracer_df[\"12.   How did you learn about the scholarship program?\"].str.contains(\"Organization\"),\"Organization\",\n",
    "    pd.np.where(tracer_df[\"12.   How did you learn about the scholarship program?\"].str.contains(\"Social\"),\"Social Media\",\n",
    "    pd.np.where(tracer_df[\"12.   How did you learn about the scholarship program?\"].str.contains(\"Colleague\"),\"Family / Friends / Colleague / Acquaintance\",\n",
    "    pd.np.where(tracer_df[\"12.   How did you learn about the scholarship program?\"].str.contains(\"Family\"),\"Family / Friends / Colleague / Acquaintance\",\n",
    "    pd.np.where(tracer_df[\"12.   How did you learn about the scholarship program?\"].str.contains(\"student\"),\"Family / Friends / Colleague / Acquaintance\",\n",
    "    pd.np.where(tracer_df[\"12.   How did you learn about the scholarship program?\"].str.contains(\"Teacher\"),\"Family / Friends / Colleague / Acquaintance\",\n",
    "    pd.np.where(tracer_df[\"12.   How did you learn about the scholarship program?\"].str.contains(\"Director\"),\"Family / Friends / Colleague / Acquaintance\",\n",
    "    pd.np.where(tracer_df[\"12.   How did you learn about the scholarship program?\"].str.contains(\"friend\"),\"Family / Friends / Colleague / Acquaintance\",\n",
    "    pd.np.where(tracer_df[\"12.   How did you learn about the scholarship program?\"].str.contains(\"News\"),\"News\",\n",
    "    pd.np.where(tracer_df[\"12.   How did you learn about the scholarship program?\"].str.contains(\"google\"),\"Search Engine\",\n",
    "    pd.np.where(tracer_df[\"12.   How did you learn about the scholarship program?\"].str.contains(\"DOST\"),\"Organization\",\n",
    "    pd.np.where(tracer_df[\"12.   How did you learn about the scholarship program?\"].str.contains(\"School\"),\"Organization\",\n",
    "    pd.np.where(tracer_df[\"12.   How did you learn about the scholarship program?\"].str.contains(\"FOI\"),\"Organization\",\n",
    "    pd.np.where(tracer_df[\"12.   How did you learn about the scholarship program?\"].str.contains(\"Facebook\"),\"Social Media\",\n",
    "    pd.np.where(tracer_df[\"12.   How did you learn about the scholarship program?\"].str.contains(\"Youtube\"),\"Social Media\",\n",
    "    pd.np.where(tracer_df[\"12.   How did you learn about the scholarship program?\"].str.contains(\"Nieto\"),\"Influencer\",\"Others\"))))))))))))))))\n",
    "\n",
    "# ACQUISITION CHANNEL\n",
    "tracer_df[\"AcquiChannel\"] = pd.np.where(tracer_df[\"13.  How did you apply for the Project Scholarships?\"].str.contains(\"Direct\"),\"Organic\",\"Partnerships\")\n",
    "\n",
    "# REASON FOR JOINING SPARTA\n",
    "oth = [\"as additional preparation for ms in data science\",\"curiosity\",\"for prc cpd points\",\\\n",
    "       \"I'm checking on graduate studies in Statistics in UP then, I read a post that DOST is offering this program.\", \\\n",
    "       \"My former boss (a CIO) that Data Science is the future and I have a potential.\", \"Research tool\", \\\n",
    "       \"Data Science is the future\"]\n",
    "upskill = [\"Upskilling\", \"To expand my innovative skills due to interests of applications development.\"]\n",
    "employ = [\"Employment opportunities (e.g. promotion, salary increase, career shift, career entry)\",\"Employment opportunities\",\\\n",
    "          \"Workplace Benefit\"]\n",
    "school = [\"Course / School requirement\",\"It will be a great help for writing a thesis work.\"]\n",
    "reco = [\"Recommended by other people\",\"My former boss (a CIO) that Data Science is the future and I have a potential\"]\n",
    "\n",
    "tracer_df[\"Reason_Upskilling\"] = tracer_df[\"14.  Please state reason/s for applying to the scholarship program\"].apply(lambda r: 1 if any(i in str(r).lower() for i in upskill) else 0)\n",
    "tracer_df[\"Reason_Work_Rqrmnt\"] = tracer_df[\"14.  Please state reason/s for applying to the scholarship program\"].apply(lambda r: 1 if \"Workplace\" in str(r) else 0)\n",
    "tracer_df[\"Reason_Interest_DSA\"] = tracer_df[\"14.  Please state reason/s for applying to the scholarship program\"].apply(lambda r: 1 if \"interest\" in str(r) else 0)\n",
    "tracer_df[\"Reason_Employment_Opp\"] = tracer_df[\"14.  Please state reason/s for applying to the scholarship program\"].apply(lambda r: 1 if any(i in str(r).lower() for i in employ) else 0)\n",
    "tracer_df[\"Reason_Scholar_Privilege\"] = tracer_df[\"14.  Please state reason/s for applying to the scholarship program\"].apply(lambda r: 1 if \"scholar\" in str(r) else 0)\n",
    "tracer_df[\"Reason_Recommended\"] = tracer_df[\"14.  Please state reason/s for applying to the scholarship program\"].apply(lambda r: 1 if any(i in str(r).lower() for i in reco) else 0)\n",
    "tracer_df[\"Reason_App_DSA\"] = tracer_df[\"14.  Please state reason/s for applying to the scholarship program\"].apply(lambda r: 1 if \"Application\" in str(r) else 0)\n",
    "tracer_df[\"Reason_Learning\"] = tracer_df[\"14.  Please state reason/s for applying to the scholarship program\"].apply(lambda r: 1 if \"Passion\" in str(r) else 0)\n",
    "tracer_df[\"Reason_School_Rqrmnt\"] = tracer_df[\"14.  Please state reason/s for applying to the scholarship program\"].apply(lambda r: 1 if any(i in str(r).lower() for i in school) else 0)\n",
    "tracer_df[\"Reason_Diversion\"] = tracer_df[\"14.  Please state reason/s for applying to the scholarship program\"].apply(lambda r: 1 if \"Diversion\" in str(r) else 0)\n",
    "tracer_df[\"Reason_Networking\"] = tracer_df[\"14.  Please state reason/s for applying to the scholarship program\"].apply(lambda r: 1 if \"Network\" in str(r) else 0)\n",
    "tracer_df[\"Reason_Others\"] = tracer_df[\"14.  Please state reason/s for applying to the scholarship program\"].apply(lambda r: 1 if any(i in str(r).lower() for i in oth) else 0)\n",
    "\n",
    "# CHANGE IN SKILLS PROFICIENCY\n",
    "tracer_df[\"D_MS_Excel\"] = tracer_df[\"Excel\"] - tracer_df[\"Microsoft Excel\"]\n",
    "tracer_df[\"D_SQL\"] = tracer_df[\"SQL.1\"] - tracer_df[\"SQL\"]\n",
    "tracer_df[\"D_Python\"] = tracer_df[\"Python.1\"] - tracer_df[\"Python\"]\n",
    "tracer_df[\"D_Tableau\"] = tracer_df[\"Tableau.1\"] - tracer_df[\"Tableau\"]\n",
    "tracer_df[\"D_Data_Gov\"] = tracer_df[\"Data Governance (Development and implementation of data management strategies and governance, incorporating privacy and data security, policies and regulations, and ethical considerations).1\"] \\\n",
    "    - tracer_df[\"Data Governance (Development and implementation of data management strategies and governance, incorporating privacy and data security, policies and regulations, and ethical considerations)\"]\n",
    "tracer_df[\"D_Dashboard\"] = tracer_df[\"Dashboard Generation (Building of an information management tool that visually tracks, analyzes and displays key performance indicators (KPI), metrics and key data points to monitor the health of a business, department or specific process).1\"] \\\n",
    "    - tracer_df[\"Dashboard Generation (Building of an information management tool that visually tracks, analyzes and displays key performance indicators (KPI), metrics and key data points to monitor the health of a business, department or specific process)\"]\n",
    "tracer_df[\"D_Drilldown\"] = tracer_df[\"Drill-down Analytics (Querying of data to gain insights on the underlying factors driving an overall performance based on a key performance indicator).1\"] \\\n",
    "    - tracer_df[\"Drill-down Analytics (Querying of data to gain insights on the underlying factors driving an overall performance based on a key performance indicator)\"]\n",
    "tracer_df[\"D_Data_Viz\"] = tracer_df[\"Data Visualization (Graphical representation of information to communicate compelling and actionable insights).1\"] \\\n",
    "    - tracer_df[\"Data Visualization (Graphical representation of information to communicate compelling and actionable insights)\"]\n",
    "tracer_df[\"D_Research\"] = tracer_df[\"Research Methods (Utilization of creative and systematic methods  in the collection of data or evidence for analysis in order to uncover new information or create better understanding of a topic).1\"] \\\n",
    "    - tracer_df[\"Research Methods (Utilization of creative and systematic methods  in the collection of data or evidence for analysis in order to uncover new information or create better understanding of a topic)\"]\n",
    "tracer_df[\"D_Data_Engg\"] = tracer_df[\"Data Engineering (Involves building and maintaining an organization\\'s data pipeline systems and cleaning and wrangling data into a usable state).1\"] \\\n",
    "    - tracer_df[\"Data Engineering (Involves building and maintaining an organization\\'s data pipeline systems and cleaning and wrangling data into a usable state)\"]\n",
    "tracer_df[\"D_Stat_Techniques\"] = tracer_df[\"Statistical Techniques (Application of statistical concepts and methodologies to data analysis).1\"] \\\n",
    "    - tracer_df[\"Statistical Techniques (Application of statistical concepts and methodologies to data analysis)\"]\n",
    "tracer_df[\"D_ML\"] = tracer_df[\"Machine Learning (The practice of using algorithms to parse data, learn from it, and then make a determination or prediction about something in the world).1\"] \\\n",
    "    - tracer_df[\"Machine Learning (The practice of using algorithms to parse data, learn from it, and then make a determination or prediction about something in the world)\"]\n",
    "tracer_df[\"D_DL\"] = tracer_df[\"Deep Learning (Subset of machine learning which structures algorithms into multiple layers in order to create an neural network that can learn from the data and make intelligent decisions on its own).1\"] \\\n",
    "    - tracer_df[\"Deep Learning (Subset of machine learning which structures algorithms into multiple layers in order to create an neural network that can learn from the data and make intelligent decisions on its own)\"]\n",
    "tracer_df[\"D_Domain_Knowledge\"] = tracer_df[\"Domain Knowledge (Knowledge or expertise of a specific, specialized discipline, profession, or activity (e.g. industry, function, topic)).1\"] \\\n",
    "    - tracer_df[\"Domain Knowledge (Knowledge or expertise of a specific, specialized discipline, profession, or activity (e.g. industry, function, topic))\"]\n",
    "\n",
    "# FACILITATING FACTORS OF LEARNING APPLICATION\n",
    "upskill = [\"Upskilling\", \"i intend to have mastery in this field\"]\n",
    "oth2 = [\"improve the system\", \"improve the system \", \"career change \", \"career change\", \"N/A\", \"It enables me to be promoted with the additional set of skills in the company\"]\n",
    "tracer_df[\"Factor_App_Mgmt_Support\"] = tracer_df[\"18.3  What enabled you to apply your learnings in your work/business? (Choose at least 1)\"].apply(lambda r: 1 if \"support\" in str(r) else 0)\n",
    "tracer_df[\"Factor_App_Access_Tools\"] = tracer_df[\"18.3  What enabled you to apply your learnings in your work/business? (Choose at least 1)\"].apply(lambda r: 1 if \"tools\" in str(r) else 0)\n",
    "tracer_df[\"Factor_App_School_Rqrmnt\"] = tracer_df[\"18.3  What enabled you to apply your learnings in your work/business? (Choose at least 1)\"].apply(lambda r: 1 if \"Thesis\" in str(r) \\\n",
    "                                                                                                                                                     or \"Dissertation\" in str(r) or \\\n",
    "                                                                                                                                                     \"Studies\" in str(r) or \\\n",
    "                                                                                                                                                     \"School\" in str(r) or \\\n",
    "                                                                                                                                                     \"Course\" in str(r) else 0)\n",
    "tracer_df[\"Factor_App_Work_Rqrmnt\"] = tracer_df[\"18.3  What enabled you to apply your learnings in your work/business? (Choose at least 1)\"].apply(lambda r: 1 if \"Workplace\" in str(r) \\\n",
    "                                                                                                                                                     or \"job\" in str(r) or \"assigned\" in str(r) \\\n",
    "                                                                                                                                                     else 0)\n",
    "tracer_df[\"Factor_App_Available_Proj\"] = tracer_df[\"18.3  What enabled you to apply your learnings in your work/business? (Choose at least 1)\"].apply(lambda r: 1 if \"Availability\" in str(r) \\\n",
    "                                                                                                                                                       or \"Project proposal\" in str(r) else 0)\n",
    "tracer_df[\"Factor_App_Upskilling\"] = tracer_df[\"18.3  What enabled you to apply your learnings in your work/business? (Choose at least 1)\"].apply(lambda r: 1 if any(i in str(r).lower() for i in upskill) else 0)\n",
    "tracer_df[\"Factor_App_Self_Motivation\"] = tracer_df[\"18.3  What enabled you to apply your learnings in your work/business? (Choose at least 1)\"].apply(lambda r: 1 if \"Self\" in str(r) \\\n",
    "                                                                                                                                                     or \"try\" in str(r) or \"personal\" in str(r) \\\n",
    "                                                                                                                                                     else 0)\n",
    "tracer_df[\"Factor_App_Others\"] = tracer_df[\"18.3  What enabled you to apply your learnings in your work/business? (Choose at least 1)\"].apply(lambda r: 1 if any(i in str(r).lower() for i in oth2) else 0)\n",
    "\n",
    "\n",
    "# BARRIERS TO LEARNING APPLICATION\n",
    "oth3 = [\"health reasons (could not consistently continue the courses as is)\",\"already head of support services\", \"i'm already using analytics on a daily basis but very specific to web based technologies like google analytics, google ads, facebook insights, etc.\", \\\n",
    "        \"i am currently working in a project with data analytics application\"]\n",
    "opportunity = [\" also the lack of opportunities to learn with peers\",\"no opening yet\",\"no opportunities to use my learnings yet\", \\\n",
    "               \"no opportunity yet\"]\n",
    "early = [\"i am just starting my course.\",\"i'm fairly new in my job and i'm still in the middle of finishing drill-down analytics course\", \\\n",
    "         \"i am just starting my course and coupon code is delay\", \"i just finished the 1st course, and i'm just waiting on my certificate.\", \\\n",
    "         \"i have finished the 1st course, got my certificate and the enrollment codes after sending an email and is still working on the 2nd course. \", \\\n",
    "         \"i have finished the 1st course, got my certificate and the enrollment codes after sending an email and is still working on the 2nd course.\"]\n",
    "tracer_df[\"Barrier_App_Lack_Mgmt_Support\"] = tracer_df[\"18.4  What hindered you from applying your learnings in your work/business (Choose at least 1)?\"].apply(lambda r: 1 if \"Lack of management\" in str(r) else 0)\n",
    "tracer_df[\"Barrier_App_No_Work_Rqrmnt\"] = tracer_df[\"18.4  What hindered you from applying your learnings in your work/business (Choose at least 1)?\"].apply(lambda r: 1 if \"No workplace\" in str(r) \\\n",
    "                                                                                                                                                            or \"Not yet required\" in str(r) else 0)\n",
    "tracer_df[\"Barrier_App_No_School_Rqrmnt\"] = tracer_df[\"18.4  What hindered you from applying your learnings in your work/business (Choose at least 1)?\"].apply(lambda r: 1 if \"course\" in str(r) \\\n",
    "                                                                                                                                                            or \"school\" in str(r) else 0)\n",
    "tracer_df[\"Barrier_App_Lack_Projects\"] = tracer_df[\"18.4  What hindered you from applying your learnings in your work/business (Choose at least 1)?\"].apply(lambda r: 1 if \"projects\" in str(r) else 0)\n",
    "tracer_df[\"Barrier_App_Lack_Access_Tools\"] = tracer_df[\"18.4  What hindered you from applying your learnings in your work/business (Choose at least 1)?\"].apply(lambda r: 1 if \"access to tools\" in str(r) else 0)\n",
    "tracer_df[\"Barrier_App_Tool_Mismatch\"] = tracer_df[\"18.4  What hindered you from applying your learnings in your work/business (Choose at least 1)?\"].apply(lambda r: 1 if \"mismatch\" in str(r) else 0)\n",
    "tracer_df[\"Barrier_App_Time\"] = tracer_df[\"18.4  What hindered you from applying your learnings in your work/business (Choose at least 1)?\"].apply(lambda r: 1 if \"busy\" in str(r) or \\\n",
    "                                                                                                                                                   \"Skeletal\" in str(r) or \"time\" in str(r) \\\n",
    "                                                                                                                                                   else 0)\n",
    "tracer_df[\"Barrier_App_Too_Early\"] = tracer_df[\"18.4  What hindered you from applying your learnings in your work/business (Choose at least 1)?\"].apply(lambda r: 1 if any(i in str(r).lower() for i in early) else 0)\n",
    "tracer_df[\"Barrier_App_Lack_Opp\"] = tracer_df[\"18.4  What hindered you from applying your learnings in your work/business (Choose at least 1)?\"].apply(lambda r: 1 if any(i in str(r).lower() for i in opportunity) else 0)\n",
    "tracer_df[\"Barrier_App_Non_Working\"] = tracer_df[\"18.4  What hindered you from applying your learnings in your work/business (Choose at least 1)?\"].apply(lambda r: 1 if \"Unemployed\" in str(r) or \\\n",
    "                                                                                                                                                   \"Student\" in str(r) or \"not yet in a business or work\" \\\n",
    "                                                                                                                                                   in str(r) else 0)\n",
    "tracer_df[\"Barrier_App_Others\"] = tracer_df[\"18.4  What hindered you from applying your learnings in your work/business (Choose at least 1)?\"].apply(lambda r: 1 if any(i in str(r).lower() for i in oth3) else 0)\n",
    "\n",
    "# FACILITATING FACTORS OF KNOWLEDGE SHARING\n",
    "work_req = [\"workplace / business requirement\",\"part of work\",\"i am directly supervising my colleague\",\"Self-initiative since I was about to resign therefore I decided to share useful knowledge for those teachers who will most likely takeover my usual tasks\"]\n",
    "self = [\"as currently enrolled in the program, i do see the need to educate our kababayan to engaged in this program for becoming better filipinos in the future especially that we are now on the digital age. \", \\\n",
    "        \"as currently enrolled in the program, i do see the need to educate our kababayan to engaged in this program for becoming better filipinos in the future especially that we are now on the digital age.\", \\\n",
    "        \"just want to Share knowledge\",\"actually, i am an advocate of using new tech in office, so i dont mind sharing my knowledge about this stuff.\", \\\n",
    "        \"Just wanted to be the 'Mentor' that I wanted to be mentored with during my Junior days.\", \\\n",
    "        \"I got excited to share especially during the machine learning and deep learning parts.\", \\\n",
    "        \"To inspire and support other small business owners\"]\n",
    "oth4 = [\"not yet\",\"we might need the skills in machine learning in our thesis/dissertation\",\"future research prospects\"]\n",
    "tracer_df[\"Factor_Share_Mgmt_Support\"] = tracer_df[\"19.3  What enabled you to share your learnings in your work/business? (Choose at least 1)\"].apply(lambda r: 1 if \"support\" in str(r) else 0)\n",
    "tracer_df[\"Factor_Share_Work_Rqrmnt\"] = tracer_df[\"19.3  What enabled you to share your learnings in your work/business? (Choose at least 1)\"].apply(lambda r: 1 if any(i in str(r).lower() for i in work_req) else 0)\n",
    "tracer_df[\"Factor_Share_Available_Opp\"] = tracer_df[\"19.3  What enabled you to share your learnings in your work/business? (Choose at least 1)\"].apply(lambda r: 1 if \"opportunities\" in str(r) else 0)\n",
    "tracer_df[\"Factor_Share_Access_Tools\"] = tracer_df[\"19.3  What enabled you to share your learnings in your work/business? (Choose at least 1)\"].apply(lambda r: 1 if \"Access to tools\" in str(r) else 0)\n",
    "tracer_df[\"Factor_Share_Ofc_Culture\"] = tracer_df[\"19.3  What enabled you to share your learnings in your work/business? (Choose at least 1)\"].apply(lambda r: 1 if \"culture\" in str(r) else 0)\n",
    "tracer_df[\"Factor_Share_Self_Motivation\"] = tracer_df[\"19.3  What enabled you to share your learnings in your work/business? (Choose at least 1)\"].apply(lambda r: 1 if any(i in str(r).lower() for i in self) else 0)\n",
    "tracer_df[\"Factor_Share_School_Rqrmnt\"] = tracer_df[\"19.3  What enabled you to share your learnings in your work/business? (Choose at least 1)\"].apply(lambda r: 1 if \"Course\" in str(r) or \\\n",
    "                                                                                                                                                                \"School\" in str(r) else 0)\n",
    "tracer_df[\"Factor_Share_Others\"] = tracer_df[\"19.3  What enabled you to share your learnings in your work/business? (Choose at least 1)\"].apply(lambda r: 1 if any(i in str(r).lower() for i in oth4) else 0)\n",
    "\n",
    "# BARRIERS TO KNOWLEDGE SHARING\n",
    "oth5 = [\"see answer 16.4\",\"my analysts are also enrolled to sparta\",\"still looking for employment opportunities/unemployment\", \\\n",
    "        \"i changed work. \", \"course scheduled in q3\", \"i changed work.\", \"office is not yet operational because of the pandemic\", \\\n",
    "        \"my staff are not willing to learn, very complacent with what they know\", \"N/A\", \"Unemployed so no one to share learnings with.\", \\\n",
    "        \"They're not interested\",\"There are no interested people in my organization.\"]\n",
    "time = [\"due to heavy workload and preparation for law school there was no time to share my skills or knowledge to my colleagues and friends.\", \\\n",
    "        \"heavy workload and personal matters\",\"skeletal force at work. difficulty in finding time and focus to study\"]\n",
    "opportunity2 = [\"lack of training facilitation or knowledge sharing opportunities\",\"no class yet.\",\"working from home and on a personal business, there wasn't much opportunity to teach others in the last 3 months.\", \\\n",
    "                \"no opportunity yet\",\" no other persons i can share the skills with\",\"not yet in a business or work\", \\\n",
    "                \"No opportunity to teach yet. I just signed up to be a tutor and will share what I have learned in the future.\", \\\n",
    "                \"I am the only Junior Proposal Writer in our three-person team, with the Senior Proposal Writer and Senior Graphic Artist. Of the three, I am the only one working onsite. The rest are working from home. So, there's really no opportunity or necessity for sharing learnings at the moment, aside from personal initiative to build and organize the data I deal with and use.\",\\\n",
    "                \"There's nobody to share with yet\",\"No current school requirement that needed it\"]\n",
    "tracer_df[\"Barrier_Share_Lack_Mgmt_Support\"] = tracer_df[\"19.4  What hindered you from sharing your learnings in your work/business (Choose at least 1)?\"].apply(lambda r: 1 if \"Lack of management\" in str(r) else 0)\n",
    "tracer_df[\"Barrier_Share_No_Work_Rqrmnt\"] = tracer_df[\"19.4  What hindered you from sharing your learnings in your work/business (Choose at least 1)?\"].apply(lambda r: 1 if \"No workplace\" in str(r) \\\n",
    "                                                                                                                                                                          or \"not required\" in str(r) else 0)\n",
    "tracer_df[\"Barrier_Share_Lack_Opp\"] = tracer_df[\"19.4  What hindered you from sharing your learnings in your work/business (Choose at least 1)?\"].apply(lambda r: 1 if any(i in str(r).lower() for i in opportunity2) else 0)\n",
    "tracer_df[\"Barrier_Share_Lack_Access_Tools\"] = tracer_df[\"19.4  What hindered you from sharing your learnings in your work/business (Choose at least 1)?\"].apply(lambda r: 1 if \"access to tools\" in str(r) else 0)\n",
    "tracer_df[\"Barrier_Share_Tool_Mismatch\"] = tracer_df[\"19.4  What hindered you from sharing your learnings in your work/business (Choose at least 1)?\"].apply(lambda r: 1 if \"mismatch\" in str(r) else 0)\n",
    "tracer_df[\"Barrier_Share_Time\"] = tracer_df[\"19.4  What hindered you from sharing your learnings in your work/business (Choose at least 1)?\"].apply(lambda r: 1 if any(i in str(r).lower() for i in time) else 0)\n",
    "tracer_df[\"Barrier_Share_Too_Early\"] = tracer_df[\"19.4  What hindered you from sharing your learnings in your work/business (Choose at least 1)?\"].apply(lambda r: 1 if \"still learning\" in str(r) or \\\n",
    "                                                                                                                                                                    \"need more training\" in str(r) else 0)\n",
    "tracer_df[\"Barrier_Share_Others\"] = tracer_df[\"19.4  What hindered you from sharing your learnings in your work/business (Choose at least 1)?\"].apply(lambda r: 1 if any(i in str(r).lower() for i in oth5) else 0)\n",
    "\n",
    "# CREATE DUMMY VARIABLES\n",
    "sub_df = tracer_df[[\"5. Sex\",\"Age_Range\",\"Region\",\"Island group\",\"8.  Highest Educational Attainment (Highest level of education SUCCESSFULLY COMPLETED)\", \\\n",
    "                    \"10.  Employment Status\",\"InfoChannel\",\"AcquiChannel\"]]\n",
    "sub_df = sub_df.rename(columns={\"5. Sex\":\"Sex\",\"8.  Highest Educational Attainment (Highest level of education SUCCESSFULLY COMPLETED)\":\"Educ\", \\\n",
    "                                \"10.  Employment Status\":\"Emp_Status\", \"Age_Range\":\"Age\"})\n",
    "sub_df = pd.get_dummies(sub_df)\n",
    "tracer_df = pd.merge(tracer_df, sub_df, left_index=True, right_index=True)"
   ]
  },
  {
   "cell_type": "markdown",
   "metadata": {
    "id": "lE_PlrVNSixw"
   },
   "source": [
    "### TOKENIZE RESPONSES TO QUESTIONS 16.2, 17.2, 19, AND 20"
   ]
  },
  {
   "cell_type": "markdown",
   "metadata": {
    "id": "3Y177nlhSixw"
   },
   "source": [
    "### Import stopwords list"
   ]
  },
  {
   "cell_type": "code",
   "execution_count": null,
   "metadata": {
    "id": "Z9IHZsjASixx"
   },
   "outputs": [],
   "source": [
    "stopwords_data = pd.read_csv(r\"C:\\...01_Data\\stopwords.csv\")\n",
    "stopwords_list = stopwords_data.stopwords.tolist()\n",
    "stopwords_list = set(stopwords_list + list(stopwords.words('english')) + list(ENGLISH_STOP_WORDS))"
   ]
  },
  {
   "cell_type": "markdown",
   "metadata": {
    "id": "GleagluQSixx"
   },
   "source": [
    "### Retain only the nouns and verbs"
   ]
  },
  {
   "cell_type": "code",
   "execution_count": null,
   "metadata": {
    "id": "Z2eWUo8wSixx",
    "scrolled": true
   },
   "outputs": [],
   "source": [
    "#--- Remove numbers\n",
    "tracer_df[\"App_Ways\"] = tracer_df[\"18.2  How did you apply any of your learnings on your personal/professional tasks?\"].str.replace('\\d+', '')\n",
    "tracer_df[\"Share_Ways\"] = tracer_df[\"19.2  How have you shared to / taught other people your new knowledge or skills?\"].str.replace('\\d+', '')\n",
    "tracer_df[\"Rewarding\"] = tracer_df[\"22.  What did you find particularly rewarding about the program?\"].str.replace('\\d+', '')\n",
    "tracer_df[\"Improvement\"] = tracer_df[\"23.  How can the delivery of the courses/program be enhanced?\"].str.replace('\\d+', '')\n",
    "tracer_df[\"Feedback\"] = tracer_df[\"24.  What other feedback would you like to share with the Project team?\"].str.replace('\\d+', '')\n",
    "\n",
    "#--- Retain only nouns and verbs\n",
    "def retain_nouns_verbs (text):\n",
    "    lst = []\n",
    "    tag = nltk.pos_tag(nltk.word_tokenize(text))\n",
    "    token = [x[0] for x in tag]\n",
    "    pos = [x[1] for x in tag]\n",
    "\n",
    "    for t,p in zip(token, pos):\n",
    "        if p in [\"NN\",\"NNS\",\"NNP\",\"NNPS\",\"VB\",\"VBD\",\"VBG\",\"VGN\",\"VBP\",\"VBZ\"] and p not in stopwords_list:\n",
    "            lst.append(t)\n",
    "\n",
    "    return lst\n",
    "\n",
    "sub_df2 = tracer_df[pd.notnull(tracer_df[\"App_Ways\"])]\n",
    "sub_df2[\"App_Ways\"] = sub_df2[\"App_Ways\"].apply(lambda c: c.replace(\"@\",\"\").lower())\n",
    "sub_df2[\"Tokens1\"] = sub_df2[\"App_Ways\"].apply(lambda c: retain_nouns_verbs(c))\n",
    "sub_df2 = sub_df2[[\"email\",\"18.2  How did you apply any of your learnings on your personal/professional tasks?\",\"Tokens1\"]]\n",
    "\n",
    "sub_df3 = tracer_df[pd.notnull(tracer_df[\"Share_Ways\"])]\n",
    "sub_df3[\"Share_Ways\"] = sub_df3[\"Share_Ways\"].apply(lambda c: c.replace(\"@\",\"\").lower())\n",
    "sub_df3[\"Tokens2\"] = sub_df3[\"Share_Ways\"].apply(lambda c: retain_nouns_verbs(c))\n",
    "sub_df3 = sub_df3[[\"email\",\"19.2  How have you shared to / taught other people your new knowledge or skills?\",\"Tokens2\"]]\n",
    "\n",
    "sub_df4 = tracer_df[pd.notnull(tracer_df[\"Rewarding\"])]\n",
    "sub_df4[\"Rewarding\"] = sub_df4[\"Rewarding\"].apply(lambda c: c.replace(\"@\",\"\").lower())\n",
    "sub_df4[\"Tokens3\"] = sub_df4[\"Rewarding\"].apply(lambda c: retain_nouns_verbs(c))\n",
    "sub_df4 = sub_df4[[\"email\",\"22.  What did you find particularly rewarding about the program?\",\"Tokens3\"]]\n",
    "\n",
    "sub_df5 = tracer_df[pd.notnull(tracer_df[\"Improvement\"])]\n",
    "sub_df5[\"Improvement\"] = sub_df5[\"Improvement\"].apply(lambda c: c.replace(\"@\",\"\").lower())\n",
    "sub_df5[\"Tokens4\"] = sub_df5[\"Improvement\"].apply(lambda c: retain_nouns_verbs(c))\n",
    "sub_df5 = sub_df5[[\"email\",\"23.  How can the delivery of the courses/program be enhanced?\",\"Tokens4\"]]\n",
    "\n",
    "sub_df6 = tracer_df[pd.notnull(tracer_df[\"Feedback\"])]\n",
    "sub_df6[\"Feedback\"] = sub_df6[\"Feedback\"].apply(lambda c: c.replace(\"@\",\"\").lower())\n",
    "sub_df6[\"Tokens5\"] = sub_df6[\"Feedback\"].apply(lambda c: retain_nouns_verbs(c))\n",
    "sub_df6 = sub_df6[[\"email\",\"24.  What other feedback would you like to share with the Project team?\",\"Tokens5\"]]\n"
   ]
  },
  {
   "cell_type": "markdown",
   "metadata": {
    "id": "GAQ_BgvjSixy"
   },
   "source": [
    "### Cleanse the tokens"
   ]
  },
  {
   "cell_type": "code",
   "execution_count": null,
   "metadata": {
    "id": "jpmnwfdZSixy"
   },
   "outputs": [],
   "source": [
    "### Remove stopwords\n",
    "sub_df2[\"Tokens1\"] = sub_df2[\"Tokens1\"].apply(lambda t: [u for u in t if u not in stopwords_list])\n",
    "\n",
    "### Remove Tokens1 with only up to 2 characters\n",
    "sub_df2[\"Tokens1\"] = sub_df2[\"Tokens1\"].apply(lambda t: [u for u in t if len(u)>2])\n",
    "\n",
    "### Remove punctuations from text\n",
    "sub_df2[\"Tokens1\"] = sub_df2[\"Tokens1\"].apply(lambda t: [re.sub(r'\\[.*?\\]', '', x) for x in t])\n",
    "sub_df2[\"Tokens1\"] = sub_df2[\"Tokens1\"].apply(lambda t: [re.sub(r'[%s]' % re.escape(string.punctuation), '', x) for x in t])\n",
    "\n",
    "### Lemmatize Tokens1\n",
    "nlp = en_core_web_sm.load()\n",
    "def lemmatizer(text):\n",
    "    sent = []\n",
    "    doc = nlp(text)\n",
    "    for word in doc:\n",
    "        sent.append(word.lemma_)\n",
    "    return \" \".join(sent)\n",
    "\n",
    "sub_df2[\"Tokens1\"] =  sub_df2[\"Tokens1\"].apply(lambda t: [lemmatizer(x) for x in t])\n",
    "\n",
    "### Remove -PRON-\n",
    "sub_df2[\"Tokens1\"] =  sub_df2[\"Tokens1\"].apply(lambda t: [x for x in t if x != '-PRON-'])\n"
   ]
  },
  {
   "cell_type": "code",
   "execution_count": null,
   "metadata": {
    "id": "cr1LKdSYSixy"
   },
   "outputs": [],
   "source": [
    "### Remove stopwords\n",
    "sub_df3[\"Tokens2\"] = sub_df3[\"Tokens2\"].apply(lambda t: [u for u in t if u not in stopwords_list])\n",
    "\n",
    "### Remove Tokens2 with only up to 2 characters\n",
    "sub_df3[\"Tokens2\"] = sub_df3[\"Tokens2\"].apply(lambda t: [u for u in t if len(u)>2])\n",
    "\n",
    "### Remove punctuations from text\n",
    "sub_df3[\"Tokens2\"] = sub_df3[\"Tokens2\"].apply(lambda t: [re.sub(r'\\[.*?\\]', '', x) for x in t])\n",
    "sub_df3[\"Tokens2\"] = sub_df3[\"Tokens2\"].apply(lambda t: [re.sub(r'[%s]' % re.escape(string.punctuation), '', x) for x in t])\n",
    "\n",
    "### Lemmatize Tokens2\n",
    "nlp = en_core_web_sm.load()\n",
    "def lemmatizer(text):\n",
    "    sent = []\n",
    "    doc = nlp(text)\n",
    "    for word in doc:\n",
    "        sent.append(word.lemma_)\n",
    "    return \" \".join(sent)\n",
    "\n",
    "sub_df3[\"Tokens2\"] =  sub_df3[\"Tokens2\"].apply(lambda t: [lemmatizer(x) for x in t])\n",
    "\n",
    "### Remove -PRON-\n",
    "sub_df3[\"Tokens2\"] =  sub_df3[\"Tokens2\"].apply(lambda t: [x for x in t if x != '-PRON-'])\n"
   ]
  },
  {
   "cell_type": "code",
   "execution_count": null,
   "metadata": {
    "id": "hnqXEmTUSixy",
    "scrolled": true
   },
   "outputs": [],
   "source": [
    "### Remove stopwords\n",
    "sub_df4[\"Tokens3\"] = sub_df4[\"Tokens3\"].apply(lambda t: [u for u in t if u not in stopwords_list])\n",
    "\n",
    "### Remove Tokens3 with only up to 2 characters\n",
    "sub_df4[\"Tokens3\"] = sub_df4[\"Tokens3\"].apply(lambda t: [u for u in t if len(u)>2])\n",
    "\n",
    "### Remove punctuations from text\n",
    "sub_df4[\"Tokens3\"] = sub_df4[\"Tokens3\"].apply(lambda t: [re.sub(r'\\[.*?\\]', '', x) for x in t])\n",
    "sub_df4[\"Tokens3\"] = sub_df4[\"Tokens3\"].apply(lambda t: [re.sub(r'[%s]' % re.escape(string.punctuation), '', x) for x in t])\n",
    "\n",
    "### Lemmatize Tokens3\n",
    "nlp = en_core_web_sm.load()\n",
    "def lemmatizer(text):\n",
    "    sent = []\n",
    "    doc = nlp(text)\n",
    "    for word in doc:\n",
    "        sent.append(word.lemma_)\n",
    "    return \" \".join(sent)\n",
    "\n",
    "sub_df4[\"Tokens3\"] =  sub_df4[\"Tokens3\"].apply(lambda t: [lemmatizer(x) for x in t])\n",
    "\n",
    "### Remove -PRON-\n",
    "sub_df4[\"Tokens3\"] =  sub_df4[\"Tokens3\"].apply(lambda t: [x for x in t if x != '-PRON-'])\n"
   ]
  },
  {
   "cell_type": "code",
   "execution_count": null,
   "metadata": {
    "id": "CcveI8DxSixz"
   },
   "outputs": [],
   "source": [
    "### Remove stopwords\n",
    "sub_df5[\"Tokens4\"] = sub_df5[\"Tokens4\"].apply(lambda t: [u for u in t if u not in stopwords_list])\n",
    "\n",
    "### Remove Tokens4 with only up to 2 characters\n",
    "sub_df5[\"Tokens4\"] = sub_df5[\"Tokens4\"].apply(lambda t: [u for u in t if len(u)>2])\n",
    "\n",
    "### Remove punctuations from text\n",
    "sub_df5[\"Tokens4\"] = sub_df5[\"Tokens4\"].apply(lambda t: [re.sub(r'\\[.*?\\]', '', x) for x in t])\n",
    "sub_df5[\"Tokens4\"] = sub_df5[\"Tokens4\"].apply(lambda t: [re.sub(r'[%s]' % re.escape(string.punctuation), '', x) for x in t])\n",
    "\n",
    "### Lemmatize Tokens4\n",
    "nlp = en_core_web_sm.load()\n",
    "def lemmatizer(text):\n",
    "    sent = []\n",
    "    doc = nlp(text)\n",
    "    for word in doc:\n",
    "        sent.append(word.lemma_)\n",
    "    return \" \".join(sent)\n",
    "\n",
    "sub_df5[\"Tokens4\"] =  sub_df5[\"Tokens4\"].apply(lambda t: [lemmatizer(x) for x in t])\n",
    "\n",
    "### Remove -PRON-\n",
    "sub_df5[\"Tokens4\"] =  sub_df5[\"Tokens4\"].apply(lambda t: [x for x in t if x != '-PRON-'])\n"
   ]
  },
  {
   "cell_type": "code",
   "execution_count": null,
   "metadata": {
    "id": "YnYwfPwvSixz"
   },
   "outputs": [],
   "source": [
    "### Remove stopwords\n",
    "sub_df6[\"Tokens5\"] = sub_df6[\"Tokens5\"].apply(lambda t: [u for u in t if u not in stopwords_list])\n",
    "\n",
    "### Remove Tokens5 with only up to 2 characters\n",
    "sub_df6[\"Tokens5\"] = sub_df6[\"Tokens5\"].apply(lambda t: [u for u in t if len(u)>2])\n",
    "\n",
    "### Remove punctuations from text\n",
    "sub_df6[\"Tokens5\"] = sub_df6[\"Tokens5\"].apply(lambda t: [re.sub(r'\\[.*?\\]', '', x) for x in t])\n",
    "sub_df6[\"Tokens5\"] = sub_df6[\"Tokens5\"].apply(lambda t: [re.sub(r'[%s]' % re.escape(string.punctuation), '', x) for x in t])\n",
    "\n",
    "### Lemmatize Tokens5\n",
    "nlp = en_core_web_sm.load()\n",
    "def lemmatizer(text):\n",
    "    sent = []\n",
    "    doc = nlp(text)\n",
    "    for word in doc:\n",
    "        sent.append(word.lemma_)\n",
    "    return \" \".join(sent)\n",
    "\n",
    "sub_df6[\"Tokens5\"] =  sub_df6[\"Tokens5\"].apply(lambda t: [lemmatizer(x) for x in t])\n",
    "\n",
    "### Remove -PRON-\n",
    "sub_df6[\"Tokens5\"] =  sub_df6[\"Tokens5\"].apply(lambda t: [x for x in t if x != '-PRON-'])\n"
   ]
  },
  {
   "cell_type": "code",
   "execution_count": null,
   "metadata": {
    "id": "KgDRKKv7Sixz"
   },
   "outputs": [],
   "source": [
    "tracer_df = tracer_df.drop(columns=[\"App_Ways\",\"Share_Ways\",\"Rewarding\",\"Improvement\",\"Feedback\"])"
   ]
  },
  {
   "cell_type": "markdown",
   "metadata": {
    "id": "rtkm3M99Sixz"
   },
   "source": [
    "### SAVE AS PICKLES"
   ]
  },
  {
   "cell_type": "code",
   "execution_count": null,
   "metadata": {
    "id": "ZU4veaabSixz",
    "scrolled": true
   },
   "outputs": [],
   "source": [
    "tracer_df.to_pickle(r\"C:\\...01_Data\\Cleansed_Tracer_All.pickle\")\n",
    "sub_df2.to_pickle(r\"C:\\...01_Data\\Learning_App.pickle\")\n",
    "sub_df3.to_pickle(r\"C:\\...01_Data\\Knowledge_Sharing.pickle\")\n",
    "sub_df4.to_pickle(r\"C:\\...01_Data\\Rewarding.pickle\")\n",
    "sub_df5.to_pickle(r\"C:\\...01_Data\\Improvement.pickle\")\n",
    "sub_df6.to_pickle(r\"C:\\...01_Data\\Other_Feedback.pickle\")\n"
   ]
  },
  {
   "cell_type": "code",
   "execution_count": null,
   "metadata": {
    "id": "jE3NavoJSixz"
   },
   "outputs": [],
   "source": [
    "tracer_df = pd.read_pickle(r\"C:\\...01_Data\\Cleansed_Tracer_All.pickle\")\n",
    "len(tracer_df)"
   ]
  },
  {
   "cell_type": "code",
   "execution_count": null,
   "metadata": {
    "id": "rIZ0ZiI8Sixz"
   },
   "outputs": [],
   "source": []
  }
 ],
 "metadata": {
  "colab": {
   "provenance": []
  },
  "kernelspec": {
   "display_name": "Python 3 (ipykernel)",
   "language": "python",
   "name": "python3"
  },
  "language_info": {
   "codemirror_mode": {
    "name": "ipython",
    "version": 3
   },
   "file_extension": ".py",
   "mimetype": "text/x-python",
   "name": "python",
   "nbconvert_exporter": "python",
   "pygments_lexer": "ipython3",
   "version": "3.12.4"
  }
 },
 "nbformat": 4,
 "nbformat_minor": 4
}
